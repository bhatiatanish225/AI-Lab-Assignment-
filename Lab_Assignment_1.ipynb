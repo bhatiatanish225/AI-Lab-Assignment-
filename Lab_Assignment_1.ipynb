{
  "nbformat": 4,
  "nbformat_minor": 0,
  "metadata": {
    "colab": {
      "provenance": [],
      "authorship_tag": "ABX9TyNA977Fw885G/ATqjnQb5yq",
      "include_colab_link": true
    },
    "kernelspec": {
      "name": "python3",
      "display_name": "Python 3"
    },
    "language_info": {
      "name": "python"
    }
  },
  "cells": [
    {
      "cell_type": "markdown",
      "metadata": {
        "id": "view-in-github",
        "colab_type": "text"
      },
      "source": [
        "<a href=\"https://colab.research.google.com/github/bhatiatanish225/AI-Lab-Assignment-/blob/main/Lab_Assignment_1.ipynb\" target=\"_parent\"><img src=\"https://colab.research.google.com/assets/colab-badge.svg\" alt=\"Open In Colab\"/></a>"
      ]
    },
    {
      "cell_type": "markdown",
      "source": [
        "# **Lab Assignment -1**"
      ],
      "metadata": {
        "id": "FqfQt2kd0uL8"
      }
    },
    {
      "cell_type": "markdown",
      "source": [
        "**Ques-1**"
      ],
      "metadata": {
        "id": "V3jo0nqzxd00"
      }
    },
    {
      "cell_type": "code",
      "source": [
        "L1=[1,2,3,4]\n",
        "L2=['tanish','bhatia','tan','tanss']\n",
        "dictonary=dict(zip(L1,L2))\n",
        "dictonary"
      ],
      "metadata": {
        "colab": {
          "base_uri": "https://localhost:8080/"
        },
        "id": "zfBTJQvGxiBI",
        "outputId": "e16d8dec-d7aa-42b0-e030-437cd0e1e7a9"
      },
      "execution_count": null,
      "outputs": [
        {
          "output_type": "execute_result",
          "data": {
            "text/plain": [
              "{1: 'tanish', 2: 'bhatia', 3: 'tan', 4: 'tanss'}"
            ]
          },
          "metadata": {},
          "execution_count": 3
        }
      ]
    },
    {
      "cell_type": "markdown",
      "source": [
        "**Ques-2**"
      ],
      "metadata": {
        "id": "DAlnFyUYyQpH"
      }
    },
    {
      "cell_type": "code",
      "source": [
        "N1=input(\"Enter First Number : \")\n",
        "N2=input(\"Enter Second Number : \")\n",
        "if(N1==N2):\n",
        "  print(\"Both Numbers are equal\")\n",
        "elif(N1>N2):\n",
        "  print(\"First Number(N1) is Greater than Second(N2)\")\n",
        "else:\n",
        "  print(\"First Number(N1) is Lesser than Second(N2)\")"
      ],
      "metadata": {
        "colab": {
          "base_uri": "https://localhost:8080/"
        },
        "id": "nCEwkkwbyUV3",
        "outputId": "3796a575-19fa-4684-f912-50cf1bb891e8"
      },
      "execution_count": null,
      "outputs": [
        {
          "output_type": "stream",
          "name": "stdout",
          "text": [
            "Enter First Number : 25\n",
            "Enter Second Number : 65\n",
            "First Number(N1) is Lesser than Second(N2)\n"
          ]
        }
      ]
    },
    {
      "cell_type": "markdown",
      "source": [
        "**Ques-3**"
      ],
      "metadata": {
        "id": "QXA-O6qbzEJ_"
      }
    },
    {
      "cell_type": "code",
      "source": [
        "L=[1,2,3,'tanish','bhatia',8.65,True,{1:'tan',2:'tanss'},[1,2]]\n",
        "\n",
        "for i in L:\n",
        "  print(i, 'data type is : ',type(i))"
      ],
      "metadata": {
        "colab": {
          "base_uri": "https://localhost:8080/"
        },
        "id": "8X8xlXKqzHcY",
        "outputId": "9227def5-da44-41b7-809d-15224e97c9f8"
      },
      "execution_count": null,
      "outputs": [
        {
          "output_type": "stream",
          "name": "stdout",
          "text": [
            "1 data type is :  <class 'int'>\n",
            "2 data type is :  <class 'int'>\n",
            "3 data type is :  <class 'int'>\n",
            "tanish data type is :  <class 'str'>\n",
            "bhatia data type is :  <class 'str'>\n",
            "8.65 data type is :  <class 'float'>\n",
            "True data type is :  <class 'bool'>\n",
            "{1: 'tan', 2: 'tanss'} data type is :  <class 'dict'>\n",
            "[1, 2] data type is :  <class 'list'>\n"
          ]
        }
      ]
    },
    {
      "cell_type": "markdown",
      "source": [
        "**Ques-4**"
      ],
      "metadata": {
        "id": "hS9kU1cK0j-i"
      }
    },
    {
      "cell_type": "code",
      "source": [
        "A=int(input(\"Enter A : \"))\n",
        "B=int(input(\"Enter B : \"))\n",
        "X=A\n",
        "count=0\n",
        "if(X%B==0):\n",
        "  while(X%B==0):\n",
        "    count=count+1;\n",
        "    X=X/B\n",
        "  print(f\"{A} is Dividible by {B} , {count} times\")\n",
        "else:\n",
        "\n",
        "  print(f\"{A} is not Dividible by {B} \")"
      ],
      "metadata": {
        "colab": {
          "base_uri": "https://localhost:8080/"
        },
        "id": "ccgTby7v0OoW",
        "outputId": "c1d5f71d-0627-4e62-adfd-5d3f1a232c2c"
      },
      "execution_count": null,
      "outputs": [
        {
          "output_type": "stream",
          "name": "stdout",
          "text": [
            "Enter A : 8\n",
            "Enter B : 6\n",
            "8 is not Dividible by 6 \n"
          ]
        }
      ]
    },
    {
      "cell_type": "markdown",
      "source": [
        "**Ques-5**"
      ],
      "metadata": {
        "id": "G8bzES0D3g5f"
      }
    },
    {
      "cell_type": "code",
      "source": [
        "import random as rn\n",
        "List_int=[]\n",
        "n=25\n",
        "for i in range(25):\n",
        "  List_int.append(rn.randint(0,100))\n",
        "print(List_int)\n",
        "\n",
        "for x in List_int:\n",
        "  if(x%3==0):\n",
        "    print(f\"{x} is Divisible by 3\")\n",
        "  else:\n",
        "    print(f\"{x} is not Divisible by 3\")"
      ],
      "metadata": {
        "colab": {
          "base_uri": "https://localhost:8080/"
        },
        "id": "a_PzEyAc3lnO",
        "outputId": "4551400a-9ef4-470f-e08f-73fa52ce2851"
      },
      "execution_count": null,
      "outputs": [
        {
          "output_type": "stream",
          "name": "stdout",
          "text": [
            "[41, 35, 18, 92, 36, 5, 40, 27, 79, 58, 54, 49, 80, 15, 53, 34, 71, 28, 53, 78, 9, 40, 95, 85, 100]\n",
            "41 is not Divisible by 3\n",
            "35 is not Divisible by 3\n",
            "18 is Divisible by 3\n",
            "92 is not Divisible by 3\n",
            "36 is Divisible by 3\n",
            "5 is not Divisible by 3\n",
            "40 is not Divisible by 3\n",
            "27 is Divisible by 3\n",
            "79 is not Divisible by 3\n",
            "58 is not Divisible by 3\n",
            "54 is Divisible by 3\n",
            "49 is not Divisible by 3\n",
            "80 is not Divisible by 3\n",
            "15 is Divisible by 3\n",
            "53 is not Divisible by 3\n",
            "34 is not Divisible by 3\n",
            "71 is not Divisible by 3\n",
            "28 is not Divisible by 3\n",
            "53 is not Divisible by 3\n",
            "78 is Divisible by 3\n",
            "9 is Divisible by 3\n",
            "40 is not Divisible by 3\n",
            "95 is not Divisible by 3\n",
            "85 is not Divisible by 3\n",
            "100 is not Divisible by 3\n"
          ]
        }
      ]
    },
    {
      "cell_type": "markdown",
      "source": [
        "**Ques-6**"
      ],
      "metadata": {
        "id": "Y4-tH96c46aF"
      }
    },
    {
      "cell_type": "code",
      "source": [
        "list=[1,2,3,4,5]\n",
        "sub_list=slice(1,3,1)\n",
        "print(list[sub_list])"
      ],
      "metadata": {
        "colab": {
          "base_uri": "https://localhost:8080/"
        },
        "id": "gM9T1_hZ48xq",
        "outputId": "379fe2bb-76a1-4dc2-c29e-2dd1fba19e6c"
      },
      "execution_count": null,
      "outputs": [
        {
          "output_type": "stream",
          "name": "stdout",
          "text": [
            "[2, 3]\n"
          ]
        }
      ]
    },
    {
      "cell_type": "markdown",
      "source": [
        "**Ques-7**"
      ],
      "metadata": {
        "id": "uKHEybuz8qZ5"
      }
    },
    {
      "cell_type": "code",
      "source": [
        "Q=\"Hello, World!\"\n",
        "a=slice(7,12)\n",
        "print(Q[a])\n"
      ],
      "metadata": {
        "colab": {
          "base_uri": "https://localhost:8080/"
        },
        "id": "nQuGb6DR8sj9",
        "outputId": "f3d4b258-c645-48f0-9206-938a7e0e4fad"
      },
      "execution_count": null,
      "outputs": [
        {
          "output_type": "stream",
          "name": "stdout",
          "text": [
            "World\n"
          ]
        }
      ]
    },
    {
      "cell_type": "markdown",
      "source": [],
      "metadata": {
        "id": "GM8CF4UOXofz"
      }
    },
    {
      "cell_type": "markdown",
      "source": [
        "**Ques-8**"
      ],
      "metadata": {
        "id": "BRO8aa9S-AZP"
      }
    },
    {
      "cell_type": "code",
      "source": [
        "A1=int(input(\"enter first number : \"))\n",
        "A2=int(input(\"enter second number : \"))\n",
        "sum=A1+A2\n",
        "product=A1*A2\n",
        "\n",
        "if(product<1000):\n",
        "  print(f\"Product is: {product}\")\n",
        "else:\n",
        "  print(f\"Sum is : {sum}\")"
      ],
      "metadata": {
        "colab": {
          "base_uri": "https://localhost:8080/"
        },
        "id": "Xg8N0K-T-C5T",
        "outputId": "c4799806-877a-45a5-84a4-eeadddfb89e3"
      },
      "execution_count": null,
      "outputs": [
        {
          "output_type": "stream",
          "name": "stdout",
          "text": [
            "enter first number : 25\n",
            "enter second number : 65\n",
            "Sum is : 90\n"
          ]
        }
      ]
    },
    {
      "cell_type": "markdown",
      "source": [
        "**Ques-9**"
      ],
      "metadata": {
        "id": "uuRYD1-c-4Hs"
      }
    },
    {
      "cell_type": "code",
      "source": [
        "s=input(\"enter the string : \")\n",
        "for x in s[0::2]:\n",
        "  print(x)\n",
        "\n"
      ],
      "metadata": {
        "id": "LKYsHBV9-6Ni",
        "colab": {
          "base_uri": "https://localhost:8080/"
        },
        "outputId": "1385cfd0-3628-48fa-903f-7a99e4ea7791"
      },
      "execution_count": null,
      "outputs": [
        {
          "output_type": "stream",
          "name": "stdout",
          "text": [
            "enter the string : tanish\n",
            "t\n",
            "n\n",
            "s\n"
          ]
        }
      ]
    },
    {
      "cell_type": "markdown",
      "source": [
        "**Ques-10**"
      ],
      "metadata": {
        "id": "EX8ljkGeY4oy"
      }
    },
    {
      "cell_type": "code",
      "source": [
        "p=[1,2,3,4,23,24,70,64,45,341,451,35,353,67,8,2,2,2,2,2,8,8,70,70]\n",
        "\n",
        "for i in p:\n",
        "  if(i%2==0):\n",
        "    print(f\"{i} and count of this number is: {p.count(i)} \")"
      ],
      "metadata": {
        "colab": {
          "base_uri": "https://localhost:8080/"
        },
        "id": "jkj0UF-kY65D",
        "outputId": "d5e5d908-a9c8-42d6-ee63-c30fe8e537c1"
      },
      "execution_count": null,
      "outputs": [
        {
          "output_type": "stream",
          "name": "stdout",
          "text": [
            "2 and count of this number is: 6 \n",
            "4 and count of this number is: 1 \n",
            "24 and count of this number is: 1 \n",
            "70 and count of this number is: 3 \n",
            "64 and count of this number is: 1 \n",
            "8 and count of this number is: 3 \n",
            "2 and count of this number is: 6 \n",
            "2 and count of this number is: 6 \n",
            "2 and count of this number is: 6 \n",
            "2 and count of this number is: 6 \n",
            "2 and count of this number is: 6 \n",
            "8 and count of this number is: 3 \n",
            "8 and count of this number is: 3 \n",
            "70 and count of this number is: 3 \n",
            "70 and count of this number is: 3 \n"
          ]
        }
      ]
    },
    {
      "cell_type": "markdown",
      "source": [
        "**Ques-11**"
      ],
      "metadata": {
        "id": "vPM_NMe4mF7h"
      }
    },
    {
      "cell_type": "code",
      "source": [
        "numbers=[5,3,8,-1,-2.2,0]\n",
        "min=numbers[0]\n",
        "\n",
        "for i in numbers:\n",
        "  if(i<min):\n",
        "    min=i\n",
        "print(f\"Min. number is : {min}\")"
      ],
      "metadata": {
        "colab": {
          "base_uri": "https://localhost:8080/"
        },
        "id": "CKXAtuNMlJGL",
        "outputId": "acb8b88e-74be-430f-9a1c-15dddad8c0d8"
      },
      "execution_count": null,
      "outputs": [
        {
          "output_type": "stream",
          "name": "stdout",
          "text": [
            "Min. number is : -2.2\n"
          ]
        }
      ]
    },
    {
      "cell_type": "markdown",
      "source": [
        "**Ques-12**"
      ],
      "metadata": {
        "id": "9_EuS4D_m3JL"
      }
    },
    {
      "cell_type": "code",
      "source": [
        "string_list=['tanss','bhatia','tanish','tanisha','tannnn']\n",
        "for i in string_list:\n",
        "  if(i=='tanish'):\n",
        "    print(\"It is present in the list\")"
      ],
      "metadata": {
        "colab": {
          "base_uri": "https://localhost:8080/"
        },
        "id": "LECakmkHm6lc",
        "outputId": "bde78c50-4c10-4872-87c3-be1ffd05b5a7"
      },
      "execution_count": null,
      "outputs": [
        {
          "output_type": "stream",
          "name": "stdout",
          "text": [
            "It is present in the list\n"
          ]
        }
      ]
    },
    {
      "cell_type": "markdown",
      "source": [
        "**Ques-13**"
      ],
      "metadata": {
        "id": "S5mJECBqsCts"
      }
    },
    {
      "cell_type": "code",
      "source": [
        "s=input(\"enter password : \")\n",
        "while(s!='Secret'):\n",
        "  print(\"Password is InCorrect\")\n",
        "  s=input(\"enter password : \")\n",
        "print(\"Password is Correct\")"
      ],
      "metadata": {
        "colab": {
          "base_uri": "https://localhost:8080/"
        },
        "id": "-XU_bILPn8p7",
        "outputId": "60ca9d21-3c44-4dc1-c754-b896d4ed7c1e"
      },
      "execution_count": null,
      "outputs": [
        {
          "output_type": "stream",
          "name": "stdout",
          "text": [
            "enter password : sec\n",
            "Password is InCorrect\n",
            "enter password : as\n",
            "Password is InCorrect\n",
            "enter password : Secret\n",
            "Password is Correct\n"
          ]
        }
      ]
    },
    {
      "cell_type": "markdown",
      "source": [
        "**Ques-14**"
      ],
      "metadata": {
        "id": "4HV0b7idsAUF"
      }
    },
    {
      "cell_type": "code",
      "source": [
        "t=[1,2,3,4,5,6,7,8,9,10]\n",
        "\n",
        "for i in t:\n",
        "  if(t==5):\n",
        "    break\n",
        "  else:\n",
        "    print(i)\n",
        "\n",
        "for i in t:\n",
        "  if(t==8):\n",
        "    continue\n",
        "  else:\n",
        "    print(i)\n"
      ],
      "metadata": {
        "colab": {
          "base_uri": "https://localhost:8080/"
        },
        "id": "h8fzSm2Prp56",
        "outputId": "6e12f5da-38ef-42e0-a359-a06917b67b07"
      },
      "execution_count": null,
      "outputs": [
        {
          "output_type": "stream",
          "name": "stdout",
          "text": [
            "1\n",
            "2\n",
            "3\n",
            "4\n",
            "5\n",
            "6\n",
            "7\n",
            "8\n",
            "9\n",
            "10\n",
            "1\n",
            "2\n",
            "3\n",
            "4\n",
            "5\n",
            "6\n",
            "7\n",
            "8\n",
            "9\n",
            "10\n"
          ]
        }
      ]
    },
    {
      "cell_type": "markdown",
      "source": [
        "**Ques-15**"
      ],
      "metadata": {
        "id": "WKFdN3s4uxVg"
      }
    },
    {
      "cell_type": "code",
      "source": [
        "numbers = []\n",
        "while True:\n",
        "  user_input = input(\"Enter a number (or -1 to quit): \")\n",
        "  number = int(user_input)\n",
        "\n",
        "  if number == -1:\n",
        "    break\n",
        "  numbers.append(number)\n",
        "  if numbers:\n",
        "        average = sum(numbers) / len(numbers)\n",
        "        print(f\"The average of the entered numbers is: {average:.2f}\")\n",
        "  else:\n",
        "        print(\"No numbers were entered.\")\n",
        "\n",
        "\n",
        "\n",
        "\n",
        "\n"
      ],
      "metadata": {
        "colab": {
          "base_uri": "https://localhost:8080/"
        },
        "id": "i5UZxExz6_Mz",
        "outputId": "944d5ca4-0d9d-4b94-c285-188f1612fe10"
      },
      "execution_count": null,
      "outputs": [
        {
          "name": "stdout",
          "output_type": "stream",
          "text": [
            "Enter a number (or -1 to quit): 54\n",
            "The average of the entered numbers is: 54.00\n",
            "Enter a number (or -1 to quit): 65\n",
            "The average of the entered numbers is: 59.50\n",
            "Enter a number (or -1 to quit): -1\n"
          ]
        }
      ]
    },
    {
      "cell_type": "markdown",
      "source": [
        "**Ques-16**"
      ],
      "metadata": {
        "id": "Wdyp-yP-zdiA"
      }
    },
    {
      "cell_type": "code",
      "source": [
        "def get_factor(n):\n",
        "  l=[]\n",
        "\n",
        "  for i in range(1,n,1):\n",
        "    if(int(n)%i==0):\n",
        "      l.append(i)\n",
        "  print(l)\n",
        "\n",
        "get_factor(10)\n"
      ],
      "metadata": {
        "colab": {
          "base_uri": "https://localhost:8080/"
        },
        "id": "4FRsb8Wazf4q",
        "outputId": "a6d5f675-6e82-4765-d44d-71184328b4f5"
      },
      "execution_count": null,
      "outputs": [
        {
          "output_type": "stream",
          "name": "stdout",
          "text": [
            "[1, 2, 5]\n"
          ]
        }
      ]
    },
    {
      "cell_type": "markdown",
      "source": [
        "**Ques-17**"
      ],
      "metadata": {
        "id": "zUSgMeGl0y2Y"
      }
    },
    {
      "cell_type": "code",
      "source": [
        "def unique_list(numbers):\n",
        "\n",
        "\n",
        "    unique_numbers = set(numbers)\n",
        "    print(unique_numbers)\n",
        "numbers=[1,1,12,2,2,2,5,4]\n",
        "unique_list(numbers)"
      ],
      "metadata": {
        "colab": {
          "base_uri": "https://localhost:8080/"
        },
        "id": "0ne3eBSr0bv9",
        "outputId": "330fea60-64dd-474a-f7fc-f982168aa6dc"
      },
      "execution_count": null,
      "outputs": [
        {
          "output_type": "stream",
          "name": "stdout",
          "text": [
            "{1, 2, 4, 5, 12}\n"
          ]
        }
      ]
    },
    {
      "cell_type": "markdown",
      "source": [
        "**Ques-18**"
      ],
      "metadata": {
        "id": "dQjzOcJd3j3o"
      }
    },
    {
      "cell_type": "code",
      "source": [
        "del sum\n"
      ],
      "metadata": {
        "id": "_SzVKmSh6b17"
      },
      "execution_count": null,
      "outputs": []
    },
    {
      "cell_type": "code",
      "source": [
        "students = {\n",
        "    101: {\"name\": \"tans\", \"grades\": [85, 90, 78, 92, 88], \"attendance\": [20, 19, 21, 20, 22]},\n",
        "    102: {\"name\": \"tanish\", \"grades\": [80, 85, 88, 90, 86], \"attendance\": [22, 21, 22, 20, 19]},\n",
        "    103: {\"name\": \"me\", \"grades\": [75, 80, 70, 85, 80], \"attendance\": [18, 20, 21, 22, 20]},\n",
        "}\n",
        "\n",
        "\n",
        "average_marks = {}\n",
        "\n",
        "for roll_no, details in students.items():\n",
        "    grades = details[\"grades\"]\n",
        "    average = sum(grades) / len(grades)\n",
        "    average_marks[roll_no] = average\n",
        "\n",
        "for roll_no, avg in average_marks.items():\n",
        "    print(f\"Roll No {roll_no} ({students[roll_no]['name']}): Average Marks = {avg:.2f}\")\n"
      ],
      "metadata": {
        "colab": {
          "base_uri": "https://localhost:8080/"
        },
        "id": "cJlTALsc3DwY",
        "outputId": "d863c53d-2b18-4ba8-df80-41c5b1a0ef20"
      },
      "execution_count": null,
      "outputs": [
        {
          "output_type": "stream",
          "name": "stdout",
          "text": [
            "Roll No 101 (tans): Average Marks = 86.60\n",
            "Roll No 102 (tanish): Average Marks = 85.80\n",
            "Roll No 103 (me): Average Marks = 78.00\n"
          ]
        }
      ]
    },
    {
      "cell_type": "code",
      "source": [],
      "metadata": {
        "id": "WyhkfSlk50Jo"
      },
      "execution_count": null,
      "outputs": []
    }
  ]
}