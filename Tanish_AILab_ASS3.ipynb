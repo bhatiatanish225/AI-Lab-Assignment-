{
  "nbformat": 4,
  "nbformat_minor": 0,
  "metadata": {
    "colab": {
      "provenance": [],
      "authorship_tag": "ABX9TyMs+W87ku8jRvkpUj2VZcqD",
      "include_colab_link": true
    },
    "kernelspec": {
      "name": "python3",
      "display_name": "Python 3"
    },
    "language_info": {
      "name": "python"
    }
  },
  "cells": [
    {
      "cell_type": "markdown",
      "metadata": {
        "id": "view-in-github",
        "colab_type": "text"
      },
      "source": [
        "<a href=\"https://colab.research.google.com/github/bhatiatanish225/AI-Lab-Assignment-/blob/main/Tanish_AILab_ASS3.ipynb\" target=\"_parent\"><img src=\"https://colab.research.google.com/assets/colab-badge.svg\" alt=\"Open In Colab\"/></a>"
      ]
    },
    {
      "cell_type": "markdown",
      "source": [
        "**QUES - 1 Create a class for a Student with attributes name, rollno, and marks. Implement a method to display student information.**"
      ],
      "metadata": {
        "id": "bJQVZoUVvtfo"
      }
    },
    {
      "cell_type": "code",
      "execution_count": null,
      "metadata": {
        "colab": {
          "base_uri": "https://localhost:8080/"
        },
        "id": "EbySSviocgP0",
        "outputId": "b8699fae-a6ad-4995-f187-d7e09a1d5ef7"
      },
      "outputs": [
        {
          "output_type": "stream",
          "name": "stdout",
          "text": [
            "enter name: erh\n",
            "enter roll no: 34\n",
            "enter grade: 4\n",
            "My Name is :  erh\n",
            "My age  is :  34\n",
            "grade :  4\n"
          ]
        }
      ],
      "source": [
        "class student:\n",
        "  def __init__(self,name,age,grade):\n",
        "    self.name=name\n",
        "    self.age=age\n",
        "    self.grade=grade\n",
        "    print(\"My Name is : \",name)\n",
        "    print(\"My age  is : \",age)\n",
        "    print(\"grade : \",grade)\n",
        "\n",
        "\n",
        "\n",
        "\n",
        "name1=input(\"enter name: \")\n",
        "age=int(input(\"enter roll no: \"))\n",
        "grade=int(input(\"enter grade: \"))\n",
        "\n",
        "s1=student(name1,age,grade)\n"
      ]
    },
    {
      "cell_type": "markdown",
      "source": [
        "**QUES -2 Write a Python program to create a Student class with the details given in the previous question. Call the method display() to display student details. Also, write a method get avg() to get average marks.**"
      ],
      "metadata": {
        "id": "OQGt3uG2v4ja"
      }
    },
    {
      "cell_type": "code",
      "source": [
        "class Student:\n",
        "    def __init__(self,name,age,grade):\n",
        "      self.name=name\n",
        "      self.age=age\n",
        "      self.grade=grade\n",
        "    def display(self):\n",
        "      print(\"My Name is : \",self.name)\n",
        "      print(\"My age is : \",self.age)\n",
        "      print(\"Grade : \",self.grade)\n",
        "name1=input(\"enter name: \")\n",
        "age=int(input(\"enter roll no: \"))\n",
        "grade=int(input(\"enter grade: \"))\n",
        "\n",
        "s1=Student(name1,age,grade)\n",
        "s1.display()\n",
        "\n"
      ],
      "metadata": {
        "colab": {
          "base_uri": "https://localhost:8080/"
        },
        "id": "p933OeuCfjld",
        "outputId": "4f87547a-ee0c-4b52-9f92-09b1cf4fb37c"
      },
      "execution_count": null,
      "outputs": [
        {
          "output_type": "stream",
          "name": "stdout",
          "text": [
            "enter name: er\n",
            "enter roll no: 56\n",
            "enter grade: 56\n",
            "My Name is :  er\n",
            "My age is :  56\n",
            "Grade :  56\n"
          ]
        }
      ]
    },
    {
      "cell_type": "markdown",
      "source": [
        "**QUES - 3 Create a class representing a Rectangle with attributes length and width. Implement methods to calculate its area and perimeter.**"
      ],
      "metadata": {
        "id": "dMdOA-CIwZoP"
      }
    },
    {
      "cell_type": "code",
      "source": [
        "class Rectangle:\n",
        "\n",
        "  def area(self,length,width):\n",
        "    self.length=length\n",
        "    self.width=width\n",
        "    print(\"The area of rectangle is : \", length*width)\n",
        "  def perimeter(self,length,width):\n",
        "    self.length=length\n",
        "    self.width=width\n",
        "    print(\"The area of rectangle is : \", 2*(length+width))\n",
        "length=int(input(\"Enter length: \"))\n",
        "width=int(input(\"Enter Width : \"))\n",
        "r1=Rectangle()\n",
        "r1.area(length,width)\n",
        "r1.perimeter(length,width)\n"
      ],
      "metadata": {
        "colab": {
          "base_uri": "https://localhost:8080/"
        },
        "id": "MyBU305Jh4x0",
        "outputId": "2ea377ed-c595-41d7-c5b6-bdec8895d51c"
      },
      "execution_count": null,
      "outputs": [
        {
          "output_type": "stream",
          "name": "stdout",
          "text": [
            "Enter length: 20\n",
            "Enter Width : 20\n",
            "The area of rectangle is :  400\n",
            "The area of rectangle is :  80\n"
          ]
        }
      ]
    },
    {
      "cell_type": "markdown",
      "source": [
        "**QUES -4 Define a class for a BankAccount with methods to deposit, withdraw, and check balance. Ensure proper encapsulation of data.**"
      ],
      "metadata": {
        "id": "4vhxe4UH4-XW"
      }
    },
    {
      "cell_type": "code",
      "source": [
        "class BankAccount:\n",
        "    def __init__(self):\n",
        "        self.balance = 0\n",
        "\n",
        "    def deposit(self, amount):\n",
        "\n",
        "        amount = float(amount)\n",
        "        self.balance += amount\n",
        "        print(f\"{amount} deposited. Current balance: {self.balance}\")\n",
        "\n",
        "    def withdraw(self, amount):\n",
        "        amount = float(amount)\n",
        "        if self.balance <= 0:\n",
        "            print(\"You can't withdraw as the account balance is zero\")\n",
        "        elif self.balance < amount:\n",
        "            print(f\"Insufficient balance. You can withdraw up to {self.balance}\")\n",
        "        else:\n",
        "            self.balance -= amount\n",
        "            print(f\"{amount} withdrawn. Remaining balance: {self.balance}\")\n",
        "\n",
        "    def checkbalance(self):\n",
        "      print(f\"Current Balanca is : {self.balance}\")\n",
        "\n",
        "\n",
        "a1 = BankAccount()\n",
        "dep=float(input(\"Enter the amount you want to deposite : \"))\n",
        "a1.deposit(dep)\n",
        "withd=float(input(\"Enter the amount you want to withd : \"))\n",
        "a1.withdraw(withd)\n",
        "a1.checkbalance()\n"
      ],
      "metadata": {
        "colab": {
          "base_uri": "https://localhost:8080/"
        },
        "id": "AZ7NWos6l5z5",
        "outputId": "7fe92cc7-4819-4f85-dbd4-91d0e6cca905"
      },
      "execution_count": 2,
      "outputs": [
        {
          "output_type": "stream",
          "name": "stdout",
          "text": [
            "Enter the amount you want to deposite : 100\n",
            "100.0 deposited. Current balance: 100.0\n",
            "Enter the amount you want to withd : 800\n",
            "Insufficient balance. You can withdraw up to 100.0\n",
            "Current Balanca is : 100.0\n"
          ]
        }
      ]
    },
    {
      "cell_type": "markdown",
      "source": [
        "**5.Write a Python program with a class that has attributes like title, actor, and actress\n",
        "in its constructor and another method that prints all these properties.\n",
        "(a) Prompt the user to enter all this information and add this info to a list.\n",
        "(b) Keep the prompt open. Add all this information until the user replies to ’No’and then display all this information on the list.**"
      ],
      "metadata": {
        "id": "qvgVc43M4y1T"
      }
    },
    {
      "cell_type": "code",
      "source": [
        "class Details:\n",
        "  l=[]\n",
        "  l1=[]\n",
        "  def __init__(self):\n",
        "\n",
        "\n",
        "    flag=True\n",
        "\n",
        "    while(flag):\n",
        "\n",
        "      prompt=input(\"Are u ready to enter the prompt ? \")\n",
        "      if prompt=='yes':\n",
        "        flag=True\n",
        "      else:\n",
        "        flag=False\n",
        "        break\n",
        "\n",
        "      title=input(\"Enter the title : \")\n",
        "      actor=input(\"Enter the Actor Name : \")\n",
        "      actress=input(\"Enter the Actress Name : \")\n",
        "      self.l1=[title , actor , actress]\n",
        "      self.l=[self.l,self.l1]\n",
        "\n",
        "  def display(self):\n",
        "    if len(self.l)==0:\n",
        "      print(\"List is Empty!!\")\n",
        "    else:\n",
        "\n",
        "      for i in self.l:\n",
        "        print(i)\n",
        "\n",
        "d1=Details()\n",
        "d1.display()\n",
        "\n",
        "\n",
        "\n"
      ],
      "metadata": {
        "id": "69cJNtzkqcSK",
        "colab": {
          "base_uri": "https://localhost:8080/"
        },
        "outputId": "cf6318de-ebc7-4b03-b8b3-f935b431c3a9"
      },
      "execution_count": 12,
      "outputs": [
        {
          "output_type": "stream",
          "name": "stdout",
          "text": [
            "Are u ready to enter the prompt ? yes\n",
            "Enter the title : dsg\n",
            "Enter the Actor Name : sdf\n",
            "Enter the Actress Name : sf\n",
            "Are u ready to enter the prompt ? no\n",
            "[]\n",
            "['dsg', 'sdf', 'sf']\n"
          ]
        }
      ]
    },
    {
      "cell_type": "code",
      "source": [],
      "metadata": {
        "id": "WdzLjB7L2joQ"
      },
      "execution_count": null,
      "outputs": []
    }
  ]
}